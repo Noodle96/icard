{
 "cells": [
  {
   "cell_type": "markdown",
   "id": "687596e2",
   "metadata": {},
   "source": [
    "**<h1>Diccionarios y probabilidad</h1>**"
   ]
  },
  {
   "cell_type": "markdown",
   "id": "bda5cca7",
   "metadata": {},
   "source": [
    "En la probabilidad Clásica (modelo laplaciano)\n",
    "- Expermiento aleatorio\n",
    "- Espacio muestral $\\Omega$ (conjunto de todos los posibles resultados de un experimento aleatorio). Hipótesis $\\#\\Omega < +\\infty$.\n",
    "- Eventos (diccionario con conjuntos).\n",
    "- Si $\\omega \\in \\Omega$, entonces $\\{ \\omega \\}$ se le asigna una función $P: P(\\Omega) \\to [0,1]$\n",
    "$$P(\\{ \\omega\\})=\\frac{1}{\\# \\Omega}.$$\n",
    "En particular, si $A\\in P(\\Omega)$ (eventos) entonces\n",
    "$$P(A)=\\frac{\\# A}{\\# \\Omega}.$$"
   ]
  },
  {
   "cell_type": "markdown",
   "id": "925b80b0",
   "metadata": {},
   "source": [
    "**<h3>1. Experimento Lanzaiento de dos dados</h3>**"
   ]
  },
  {
   "cell_type": "markdown",
   "id": "3a9ff899",
   "metadata": {},
   "source": [
    "Supongamos que estamos interesados en el experimento aleatorio de\n",
    "lanzar un par de dados honestos. De este experimento nos interesa\n",
    "saber cuál es la suma de los dados en cada tirada\n"
   ]
  },
  {
   "cell_type": "markdown",
   "id": "0c14765f",
   "metadata": {},
   "source": [
    "**<h3>1.1 El espacio muestral</h3>**"
   ]
  },
  {
   "cell_type": "markdown",
   "id": "1c433213",
   "metadata": {},
   "source": [
    "El espacio muestral $\\Omega$ del experimento de lanzar dos dados honestos, esta compuesto de todas las parejas $(i,j)$ tales que \n",
    "$1 \\leq i,j \\leq 6$. Esto es:\n",
    "$$\\Omega=\\{(i,j): 1 \\leq i,j \\leq 6 \\} =\\{1,2,3,4,5,6\\}x\\{1,2,3,4,5,6\\}$$\n",
    "La cardinalidad de $\\Omega$: $\\#\\Omega=6^2=36$"
   ]
  },
  {
   "cell_type": "code",
   "execution_count": 3,
   "id": "f0cd199c",
   "metadata": {},
   "outputs": [
    {
     "name": "stdout",
     "output_type": "stream",
     "text": [
      "0\n",
      "1\n",
      "2\n",
      "3\n",
      "4\n",
      "5\n",
      "6\n"
     ]
    }
   ],
   "source": [
    "for e  in range(7):\n",
    "    print(e)"
   ]
  },
  {
   "cell_type": "code",
   "execution_count": 47,
   "id": "834829e6",
   "metadata": {},
   "outputs": [
    {
     "name": "stdout",
     "output_type": "stream",
     "text": [
      "[(1, 1), (1, 2), (1, 3), (1, 4), (1, 5), (1, 6), (2, 1), (2, 2), (2, 3), (2, 4), (2, 5), (2, 6), (3, 1), (3, 2), (3, 3), (3, 4), (3, 5), (3, 6), (4, 1), (4, 2), (4, 3), (4, 4), (4, 5), (4, 6), (5, 1), (5, 2), (5, 3), (5, 4), (5, 5), (5, 6), (6, 1), (6, 2), (6, 3), (6, 4), (6, 5), (6, 6)]\n",
      "<class 'list'>\n"
     ]
    }
   ],
   "source": [
    "#Usando Itertools\n",
    "from itertools import product\n",
    "Omega = list(product([1,2,3,4,5,6], repeat=2))\n",
    "print(Omega)\n",
    "print(type(Omega))"
   ]
  },
  {
   "cell_type": "code",
   "execution_count": 29,
   "id": "aa1230e4",
   "metadata": {},
   "outputs": [
    {
     "name": "stdout",
     "output_type": "stream",
     "text": [
      "[(1, 2), (1, 3), (1, 4), (1, 5), (2, 1), (2, 3), (2, 4), (2, 5), (3, 1), (3, 2), (3, 4), (3, 5), (4, 1), (4, 2), (4, 3), (4, 5), (5, 1), (5, 2), (5, 3), (5, 4)]\n"
     ]
    }
   ],
   "source": [
    "#Example of permutations\n",
    "from itertools import permutations\n",
    "perm = list(permutations([1,2,3,4,5],2))\n",
    "print(perm)"
   ]
  },
  {
   "cell_type": "code",
   "execution_count": 27,
   "id": "f5a4f99e",
   "metadata": {},
   "outputs": [
    {
     "name": "stdout",
     "output_type": "stream",
     "text": [
      "[(1, 1), (1, 2), (1, 3), (1, 4), (1, 5), (1, 6), (2, 1), (2, 2), (2, 3), (2, 4), (2, 5), (2, 6), (3, 1), (3, 2), (3, 3), (3, 4), (3, 5), (3, 6), (4, 1), (4, 2), (4, 3), (4, 4), (4, 5), (4, 6), (5, 1), (5, 2), (5, 3), (5, 4), (5, 5), (5, 6), (6, 1), (6, 2), (6, 3), (6, 4), (6, 5), (6, 6)]\n",
      "<class 'list'>\n"
     ]
    }
   ],
   "source": [
    "OmegaWithFor = [(i,j) for i in range(1,7) for j in range(1,7)]\n",
    "print(OmegaWithFor)\n",
    "print(type(OmegaWithFor))"
   ]
  },
  {
   "cell_type": "markdown",
   "id": "444b95c9",
   "metadata": {},
   "source": [
    "**<h3>1.2 Eventos Aleatorios</h3>**"
   ]
  },
  {
   "cell_type": "markdown",
   "id": "10634922",
   "metadata": {},
   "source": [
    "Sea $A$ el evento en donde la suma de los dados sea igual a n: Asi,\n",
    "    $$A=\\{(i,j) \\in \\Omega\\ : i+j=n\\}$$"
   ]
  },
  {
   "cell_type": "code",
   "execution_count": 41,
   "id": "8a0c91fb",
   "metadata": {},
   "outputs": [
    {
     "name": "stdout",
     "output_type": "stream",
     "text": [
      "[(3, 6), (4, 5), (5, 4), (6, 3)]\n"
     ]
    }
   ],
   "source": [
    "# espacio muestral construido por \"for\"\n",
    "def Sn(n):\n",
    "    Sn= [(i,j) for i in range(1,7) for j in range(1,7) if i+j==n]\n",
    "    return Sn\n",
    "suma9 = Sn(9)\n",
    "print(suma9)"
   ]
  },
  {
   "cell_type": "markdown",
   "id": "34e4d8ba",
   "metadata": {},
   "source": [
    "¿Cuál seria la probabilidad que la suma sea 9?\n",
    "Sea A: De que la suma sea 9, entonces:\n",
    "$$P(A)=\\frac{\\#A}{\\#\\Omega}$$\n",
    "$$P(A)=\\frac{4}{36}$$\n"
   ]
  },
  {
   "cell_type": "code",
   "execution_count": 42,
   "id": "5507b979",
   "metadata": {},
   "outputs": [
    {
     "name": "stdout",
     "output_type": "stream",
     "text": [
      "0.1111111111111111\n"
     ]
    }
   ],
   "source": [
    "P_A = len(suma9)/36\n",
    "print(P_A)"
   ]
  },
  {
   "cell_type": "code",
   "execution_count": 54,
   "id": "9d564d8b",
   "metadata": {},
   "outputs": [
    {
     "name": "stdout",
     "output_type": "stream",
     "text": [
      "[(1, 6), (2, 5), (3, 4), (4, 3), (5, 2), (6, 1)]\n"
     ]
    }
   ],
   "source": [
    "#espacio muestral construido por itertools\n",
    "def Suma_n(espacioMuestral,n):\n",
    "    suma_n=[]\n",
    "    for (i,j) in espacioMuestral:\n",
    "        if i+j==n:\n",
    "            suma_n.append((i,j))\n",
    "    return suma_n\n",
    "\n",
    "suma7 = Suma_n(Omega,7)\n",
    "print(suma7)"
   ]
  },
  {
   "cell_type": "code",
   "execution_count": null,
   "id": "0e54061a",
   "metadata": {},
   "outputs": [],
   "source": []
  }
 ],
 "metadata": {
  "kernelspec": {
   "display_name": "Python 3 (ipykernel)",
   "language": "python",
   "name": "python3"
  },
  "language_info": {
   "codemirror_mode": {
    "name": "ipython",
    "version": 3
   },
   "file_extension": ".py",
   "mimetype": "text/x-python",
   "name": "python",
   "nbconvert_exporter": "python",
   "pygments_lexer": "ipython3",
   "version": "3.9.13"
  }
 },
 "nbformat": 4,
 "nbformat_minor": 5
}
